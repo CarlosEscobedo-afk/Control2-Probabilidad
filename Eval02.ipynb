{
 "cells": [
  {
   "cell_type": "markdown",
   "metadata": {},
   "source": [
    "# Evaluación 02 - Laboratorio de Probabilidades y Estadistica\n",
    "\n",
    "## Instrucciones\n",
    "\n",
    "- Responda dentro del notebook las preguntas planteadas. Para ello, puede crear nuevas celdas debajo de cada pregunta, o bien editar las celdas existentes.\n",
    "- Utilice graficos y tablas para apoyar sus respuestas cuando corresponda.\n",
    "- Solo se permite el uso de librerías de python que se encuentren en el notebook.\n",
    "- La semilla con la cual se evaluará el notebook es `20231107`, instanciada en la primera celda del notebook.\n",
    "- La entrega de este documento debe ser antes del día 07 de Noviembre a las 23:59, a través del classroom, con el siguiente formato de nombre: `eval02_nombre_apellido.ipynb`.\n",
    "- La entrega en cualquier otro formato o con nombre distinto al indicado no será evaluada.\n"
   ]
  },
  {
   "cell_type": "code",
   "execution_count": null,
   "metadata": {},
   "outputs": [],
   "source": [
    "import math\n",
    "import itertools\n",
    "import numpy as np\n",
    "import matplotlib.pyplot as plt\n",
    "import pandas as pd\n",
    "import seaborn as sns\n",
    "from scipy import stats\n",
    "\n",
    "# Semilla\n",
    "rng = np.random.default_rng(20231107)"
   ]
  },
  {
   "cell_type": "markdown",
   "metadata": {},
   "source": [
    "## Pregunta 01 (10 puntos)\n",
    "\n",
    "Para una partida de poker, se reparten 5 cartas de una baraja de 52 cartas. En el primer juego, usted recibe la siguiente mano: \"8♤ 8♡ 4♡ K♢ K♧\"\n",
    "- Cual es la probabilidad de que haya salido esta combinación (2p)\n",
    "- Al recibir esta mano, usted decide cambiar el 4♡, apostando a que logrará obtener un tercer 8 para lograr un **full house**. Cual es la probabilidad de que logre obtener un tercer 8? (2p)\n",
    "- Calcule la probabilidad de obtener a la primera mano en una nueva partida, demostrando mediante una función que calcule a $n$ jugadas: (6p)\n",
    "  - dos pares\n",
    "  - un **Full house**\n",
    "  - una **escala real** [10, J, Q, K, A]\n"
   ]
  },
  {
   "cell_type": "code",
   "execution_count": null,
   "metadata": {},
   "outputs": [],
   "source": []
  },
  {
   "cell_type": "markdown",
   "metadata": {},
   "source": [
    "## Pregunta 02 (10 puntos)\n",
    "\n",
    "La empresa fabricante de articulos de primeros auxilios \"CuritaPatch\" vende 8 tipos de parches. Cada uno de estos, tiene 5 variedades de colores. Su competencia son las empresas \"HealthPack\", la cual ofrece 3 tipos de parches con una variedad de 10 colores, y la empresa \"AidBand\" ofrece 14 tipos de parches pero en 2 colores.\n",
    "\n",
    "- Cuantos tipos posibles de parches existen? Listar las opciones posibles. (2p)\n",
    "- Las tres compañias tienen en comun los parches de color rojo, mientras que \"CuritaPatch\" y \"HealthPack\" tienen en comun los parches de color verde y \"AidBand\" con \"HealthPack\" tienen parches Amarillos en común. Cual es la probabilidad de que al comprar un parche de color rojo, este sea de \"CuritaPatch\"? (5p)\n",
    "- Usted compra 10 parches de forma aleatoria. Cual es la probabilidad de que al menos 5 parches sean del mismo tipo y color para cada una de las variedades de las 3 empresas? (3p)"
   ]
  },
  {
   "cell_type": "code",
   "execution_count": null,
   "metadata": {},
   "outputs": [],
   "source": []
  },
  {
   "cell_type": "markdown",
   "metadata": {},
   "source": [
    "## Pregunta 03 (20 puntos)\n",
    "\n",
    "En un estudio con 438 personas sobre consumo de alimentos en el embarazo, se encontró que el 7% de las mujeres encuestadas presentaba sintomas de pre-diabetes. De estas mujeres, el 40% consumia alimentos con alto contenido de azucar. Por otro lado, el 12% de las mujeres que no presentaban sintomas de pre-diabetes, consumia alimentos con alto contenido de azucar.\n",
    "\n",
    "- Cual es la probabilidad de seleccionar de forma aleatoria a 3 mujeres que tuviese sintomas de pre-diabetes sin cosumir azucar? (8p)\n",
    "- Armar una función que simule un numero de encuestas y presente las probabilidades de escoger 5 personas sin tener pre-diabetes y sin consumir alimentos con azucar. Con cuantos experimentos aprox se llega a la proporcion de equilibrio? (8p)\n",
    "- Explique brevemente el por que se da este fenomeno (4p).\n"
   ]
  },
  {
   "cell_type": "code",
   "execution_count": null,
   "metadata": {},
   "outputs": [],
   "source": []
  },
  {
   "cell_type": "markdown",
   "metadata": {},
   "source": [
    "## Pregunta 04 (20 puntos)\n",
    "\n",
    "En un consultorio, tenemos 3 medicos que atienden de forma continua. El médico A demora app. 20 minutos en atender un paciente, el medico B demora 25 minutos y el médico C le toma 22 minutos. Los pacientes llegan de forma continua cada 10 minutos, sin importarles la espera.\n",
    " \n",
    "- Cual es la probabilidad de que cada uno atienda 30 pacientes en una jornada de 8 horas? (5p)\n",
    "- Cual es la probabilidad de que el medico A atienda 10 pacientes mas que el medico B? (5p)\n",
    "- Debido a las recomendaciones entre pacientes, el 60% de los pacientes busca atenderse con el medico C. Cual es la probabilidad de que habiendo ya recibido el consultorio 20 pacientes, el siguiente sea atendido por el medico A? (10p)"
   ]
  },
  {
   "cell_type": "code",
   "execution_count": null,
   "metadata": {},
   "outputs": [],
   "source": []
  }
 ],
 "metadata": {
  "language_info": {
   "name": "python"
  }
 },
 "nbformat": 4,
 "nbformat_minor": 2
}
