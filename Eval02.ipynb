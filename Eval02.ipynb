{
 "cells": [
  {
   "cell_type": "markdown",
   "metadata": {},
   "source": [
    "# Evaluación 02 - Laboratorio de Probabilidades y Estadistica\n",
    "\n",
    "## Instrucciones\n",
    "\n",
    "- Responda dentro del notebook las preguntas planteadas. Para ello, puede crear nuevas celdas debajo de cada pregunta, o bien editar las celdas existentes.\n",
    "- Utilice graficos y tablas para apoyar sus respuestas cuando corresponda.\n",
    "- Solo se permite el uso de librerías de python que se encuentren en el notebook.\n",
    "- La semilla con la cual se evaluará el notebook es `20231107`, instanciada en la primera celda del notebook.\n",
    "- La entrega de este documento debe ser antes del día 07 de Noviembre a las 23:59, a través del classroom, con el siguiente formato de nombre: `eval02_nombre_apellido.ipynb`.\n",
    "- La entrega en cualquier otro formato o con nombre distinto al indicado no será evaluada.\n"
   ]
  },
  {
   "cell_type": "code",
   "execution_count": 40,
   "metadata": {},
   "outputs": [],
   "source": [
    "import math\n",
    "import itertools\n",
    "import numpy as np\n",
    "import matplotlib.pyplot as plt\n",
    "import pandas as pd\n",
    "import seaborn as sns\n",
    "from scipy import stats\n",
    "\n",
    "# Semilla\n",
    "rng = np.random.default_rng(20231107)"
   ]
  },
  {
   "cell_type": "markdown",
   "metadata": {},
   "source": [
    "## Pregunta 01 (10 puntos)\n",
    "\n",
    "Para una partida de poker, se reparten 5 cartas de una baraja de 52 cartas. En el primer juego, usted recibe la siguiente mano: \"8♤ 8♡ 4♡ K♢ K♧\"\n",
    "- Cual es la probabilidad de que haya salido esta combinación (2p)\n",
    "- Al recibir esta mano, usted decide cambiar el 4♡, apostando a que logrará obtener un tercer 8 para lograr un **full house**. Cual es la probabilidad de que logre obtener un tercer 8? (2p)\n",
    "- Calcule la probabilidad de obtener a la primera mano en una nueva partida, demostrando mediante una función que calcule a $n$ jugadas: (6p)\n",
    "  - dos pares\n",
    "  - un **Full house**\n",
    "  - una **escala real** [10, J, Q, K, A]\n"
   ]
  },
  {
   "cell_type": "code",
   "execution_count": 41,
   "metadata": {},
   "outputs": [
    {
     "name": "stdout",
     "output_type": "stream",
     "text": [
      "Probabilidad de la mano inicial: 0.0000003848\n",
      "Probabilidad de tercer 8: 0.04255\n",
      "Probabilidad de dos pares en 10 jugadas: 0.47539\n",
      "Probabilidad de full house en 10 jugadas: 0.01441\n",
      "Probabilidad de escalera real en 10 jugadas: 0.00002\n"
     ]
    }
   ],
   "source": [
    "comb_total = math.comb(52,5)\n",
    "print(f\"Probabilidad de la mano inicial: {1/comb_total:.10f}\")\n",
    "\n",
    "print(f\"Probabilidad de tercer 8: {2/47:.5f}\")\n",
    "\n",
    "def poker_prob(n):\n",
    "    dos_pares = math.comb(13, 2) * math.comb(4, 2)**2 * 44\n",
    "\n",
    "    full_house = math.comb(13, 1) * math.comb(4, 3) * math.comb(12, 1) * math.comb(4, 2)\n",
    "\n",
    "    escalera_real = 4\n",
    "\n",
    "    dos_pares_prob = (dos_pares / comb_total) * n\n",
    "    full_house_prob = (full_house / comb_total) * n\n",
    "    escalera_real_prob = (escalera_real / comb_total) * n\n",
    "\n",
    "    return f\"Probabilidad de dos pares en {n} jugadas: {dos_pares_prob:.5f}\", f\"Probabilidad de full house en {n} jugadas: {full_house_prob:.5f}\", f\"Probabilidad de escalera real en {n} jugadas: {escalera_real_prob:.5f}\"\n",
    "\n",
    "n = 10 \n",
    "for i in poker_prob(n): print(i)"
   ]
  },
  {
   "cell_type": "markdown",
   "metadata": {},
   "source": [
    "## Pregunta 02 (10 puntos)\n",
    "\n",
    "La empresa fabricante de articulos de primeros auxilios \"CuritaPatch\" vende 8 tipos de parches. Cada uno de estos, tiene 5 variedades de colores. Su competencia son las empresas \"HealthPack\", la cual ofrece 3 tipos de parches con una variedad de 10 colores, y la empresa \"AidBand\" ofrece 14 tipos de parches pero en 2 colores.\n",
    "\n",
    "- Cuantos tipos posibles de parches existen? Listar las opciones posibles. (2p)\n",
    "- Las tres compañias tienen en comun los parches de color rojo, mientras que \"CuritaPatch\" y \"HealthPack\" tienen en comun los parches de color verde y \"AidBand\" con \"HealthPack\" tienen parches Amarillos en común. Cual es la probabilidad de que al comprar un parche de color rojo, este sea de \"CuritaPatch\"? (5p)\n",
    "- Usted compra 10 parches de forma aleatoria. Cual es la probabilidad de que al menos 5 parches sean del mismo tipo y color para cada una de las variedades de las 3 empresas? (3p)"
   ]
  },
  {
   "cell_type": "code",
   "execution_count": 42,
   "metadata": {},
   "outputs": [
    {
     "name": "stdout",
     "output_type": "stream",
     "text": [
      "CuritaPatch ofrece 40 tipos de parches.\n",
      "HealthPack ofrece 30 tipos de parches.\n",
      "AidBand ofrece 28 tipos de parches.\n",
      "El número total de tipos de parches ofrecidos por las tres empresas es 98.\n",
      "\n",
      "La probabilidad de que un parche de color rojo sea de 'CuritaPatch' es 0.32.\n",
      "\n",
      "La probabilidad de que al menos 5 de los 10 parches comprados sean del mismo tipo y color es 0.00000003\n"
     ]
    }
   ],
   "source": [
    "empresas = {\n",
    "    \"CuritaPatch\": {\"tipos\": 8, \"colores\": 5},\n",
    "    \"HealthPack\": {\"tipos\": 3, \"colores\": 10},\n",
    "    \"AidBand\": {\"tipos\": 14, \"colores\": 2}\n",
    "}\n",
    "\n",
    "total_tipos = 0\n",
    "total_rojos = 0\n",
    "rojos_curita = 0\n",
    "for empresa, productos in empresas.items():\n",
    "    tipos_empresa = productos[\"tipos\"] * productos[\"colores\"]\n",
    "    total_tipos += tipos_empresa\n",
    "    print(f\"{empresa} ofrece {tipos_empresa} tipos de parches.\")\n",
    "    \n",
    "    #Asumir que cada tipo de parche se produce en cada color con la misma frecuencia.\n",
    "    rojos_empresa = tipos_empresa / productos[\"colores\"]\n",
    "    total_rojos += rojos_empresa\n",
    "    if empresa == \"CuritaPatch\":\n",
    "        rojos_curita = rojos_empresa\n",
    "\n",
    "print(f\"El número total de tipos de parches ofrecidos por las tres empresas es {total_tipos}.\")\n",
    "probabilidad = rojos_curita / total_rojos\n",
    "\n",
    "print(f\"\\nLa probabilidad de que un parche de color rojo sea de 'CuritaPatch' es {probabilidad:.2f}.\")\n",
    "\n",
    "\n",
    "p = 1/total_tipos\n",
    "n = 10\n",
    "prob = sum(math.comb(n,k) * (p**k) * ((1-p)**(n-k)) for k in range(5, n+1))\n",
    "print(f\"\\nLa probabilidad de que al menos 5 de los 10 parches comprados sean del mismo tipo y color es {prob:.8f}\")"
   ]
  },
  {
   "cell_type": "markdown",
   "metadata": {},
   "source": [
    "## Pregunta 03 (20 puntos)\n",
    "\n",
    "En un estudio con 438 personas sobre consumo de alimentos en el embarazo, se encontró que el 7% de las mujeres encuestadas presentaba sintomas de pre-diabetes. De estas mujeres, el 40% consumia alimentos con alto contenido de azucar. Por otro lado, el 12% de las mujeres que no presentaban sintomas de pre-diabetes, consumia alimentos con alto contenido de azucar.\n",
    "\n",
    "- Cual es la probabilidad de seleccionar de forma aleatoria a 3 mujeres que tuviese sintomas de pre-diabetes sin cosumir azucar? (8p)\n",
    "- Armar una función que simule un numero de encuestas y presente las probabilidades de escoger 5 personas sin tener pre-diabetes y sin consumir alimentos con azucar. Con cuantos experimentos aprox se llega a la proporcion de equilibrio? (8p)\n",
    "- Explique brevemente el por que se da este fenomeno (4p).\n"
   ]
  },
  {
   "cell_type": "code",
   "execution_count": 43,
   "metadata": {},
   "outputs": [
    {
     "name": "stdout",
     "output_type": "stream",
     "text": [
      "La probabilidad de seleccionar de forma aleatoria a 3 mujeres que tuviesen síntomas de pre-diabetes sin consumir azúcar es 0.0000697\n"
     ]
    }
   ],
   "source": [
    "N = 438\n",
    "n = 19\n",
    "K = 3\n",
    "k = 3\n",
    "\n",
    "combinaciones_n_k = math.comb(n, k)\n",
    "combinaciones_N_K = math.comb(N, K)\n",
    "\n",
    "P = combinaciones_n_k / combinaciones_N_K\n",
    "\n",
    "print(f\"La probabilidad de seleccionar de forma aleatoria a {K} mujeres que tuviesen síntomas de pre-diabetes sin consumir azúcar es {P:.7f}\")\n"
   ]
  },
  {
   "cell_type": "code",
   "execution_count": 71,
   "metadata": {},
   "outputs": [
    {
     "name": "stdout",
     "output_type": "stream",
     "text": [
      "La probabilidad experimental de seleccionar de forma aleatoria a una mujer sin tener pre-diabetes y sin consumir alimentos con azúcar es 0.77239\n"
     ]
    }
   ],
   "source": [
    "def simulacion_encuestas(num_encuestas):\n",
    "    N = 438\n",
    "\n",
    "    n = int(0.88 * 0.88 * N)  # 88% no tienen pre-diabetes y de ellas, 88% no consumen azúcar\n",
    "\n",
    "    # Realizamos la simulación\n",
    "    exitos = sum(rng.integers(0, N) < n for _ in range(num_encuestas))\n",
    "\n",
    "    # Calculamos la probabilidad experimental\n",
    "    P_experimento = exitos / num_encuestas\n",
    "\n",
    "    print(f\"La probabilidad experimental de seleccionar de forma aleatoria a una mujer sin tener pre-diabetes y sin consumir alimentos con azúcar es {P_experimento:.5f}\")\n",
    "\n",
    "    return P_experimento\n",
    "\n",
    "# Ejecutamos la simulación con un número grande de encuestas\n",
    "num_encuestas = 100000\n",
    "P = simulacion_encuestas(num_encuestas)\n"
   ]
  },
  {
   "cell_type": "markdown",
   "metadata": {},
   "source": [
    "La probabilidad experimental que se obtiene es el resultado de una simulación de Monte Carlo, que es un método estadístico utilizado para aproximar la probabilidad de ciertos resultados. En este caso, esta simulando la selección aleatoria de una mujer del estudio y verificando si cumple con ciertos criterios (sin pre-diabetes y no consume alimentos con alto contenido de azúcar). Esta probabilidad experimental se acerca a la probabilidad teórica a medida que aumenta el número de experimentos realizados, lo que se conoce como la ley de los grandes números. Sin embargo, debido a la naturaleza aleatoria de la simulación, la probabilidad experimental puede variar cada vez que se ejecuta la simulación."
   ]
  },
  {
   "cell_type": "markdown",
   "metadata": {},
   "source": [
    "## Pregunta 04 (20 puntos)\n",
    "\n",
    "En un consultorio, tenemos 3 medicos que atienden de forma continua. El médico A demora app. 20 minutos en atender un paciente, el medico B demora 25 minutos y el médico C le toma 22 minutos. Los pacientes llegan de forma continua cada 10 minutos, sin importarles la espera.\n",
    " \n",
    "- Cual es la probabilidad de que cada uno atienda 30 pacientes en una jornada de 8 horas? (5p)\n",
    "- Cual es la probabilidad de que el medico A atienda 10 pacientes mas que el medico B? (5p)\n",
    "- Debido a las recomendaciones entre pacientes, el 60% de los pacientes busca atenderse con el medico C. Cual es la probabilidad de que habiendo ya recibido el consultorio 20 pacientes, el siguiente sea atendido por el medico A? (10p)"
   ]
  },
  {
   "cell_type": "code",
   "execution_count": 145,
   "metadata": {},
   "outputs": [
    {
     "name": "stdout",
     "output_type": "stream",
     "text": [
      "Probabilidad de que el médico A atienda a 30 pacientes: 0\n",
      "Probabilidad de que el médico B atienda a 30 pacientes: 0\n",
      "Probabilidad de que el médico C atienda a 30 pacientes: 0\n"
     ]
    }
   ],
   "source": [
    "tiempo_medico_A = 20\n",
    "tiempo_medico_B = 25\n",
    "tiempo_medico_C = 22\n",
    "\n",
    "pacientes_objetivo = 30\n",
    "jornada_trabajo = 8 * 60\n",
    "\n",
    "pacientes_atendidos_A = jornada_trabajo / tiempo_medico_A\n",
    "pacientes_atendidos_B = jornada_trabajo / tiempo_medico_B\n",
    "pacientes_atendidos_C = jornada_trabajo / tiempo_medico_C\n",
    "\n",
    "probabilidad_A = (pacientes_atendidos_A/30) if pacientes_atendidos_A >= pacientes_objetivo else 0\n",
    "probabilidad_B = (pacientes_atendidos_B/30) if pacientes_atendidos_B >= pacientes_objetivo else 0\n",
    "probabilidad_C = (pacientes_atendidos_C/30) if pacientes_atendidos_C >= pacientes_objetivo else 0\n",
    "\n",
    "print(f\"Probabilidad de que el médico A atienda a {pacientes_objetivo} pacientes: {probabilidad_A}\")\n",
    "print(f\"Probabilidad de que el médico B atienda a {pacientes_objetivo} pacientes: {probabilidad_B}\")\n",
    "print(f\"Probabilidad de que el médico C atienda a {pacientes_objetivo} pacientes: {probabilidad_C}\")\n",
    "\n",
    "\n"
   ]
  },
  {
   "cell_type": "code",
   "execution_count": 76,
   "metadata": {},
   "outputs": [
    {
     "name": "stdout",
     "output_type": "stream",
     "text": [
      "Se necesitan 17 horas para que el médico A atienda a 10 pacientes más que el médico B.\n"
     ]
    }
   ],
   "source": [
    "tiempo_medico_A = 20\n",
    "tiempo_medico_B = 25\n",
    "\n",
    "tiempo_llegada_pacientes = 10\n",
    "\n",
    "diferencia_pacientes = 10\n",
    "\n",
    "pacientes_por_hora_A = 60 / tiempo_medico_A\n",
    "pacientes_por_hora_B = 60 / tiempo_medico_B\n",
    "\n",
    "horas_necesarias = diferencia_pacientes / (pacientes_por_hora_A - pacientes_por_hora_B)\n",
    "\n",
    "print(f\"Se necesitan {math.ceil(horas_necesarias)} horas para que el médico A atienda a {diferencia_pacientes} pacientes más que el médico B.\")"
   ]
  },
  {
   "cell_type": "code",
   "execution_count": 139,
   "metadata": {},
   "outputs": [
    {
     "name": "stdout",
     "output_type": "stream",
     "text": [
      "La probabilidad de que el próximo paciente sea atendido por el médico A es del 0.2\n"
     ]
    }
   ],
   "source": [
    "preferencia_pacientes = {\"A\": 0.2, \"B\": 0.2, \"C\": 0.6}\n",
    "total_pacientes = 20\n",
    "probabilidad_A = preferencia_pacientes[\"A\"]\n",
    "\n",
    "print(f\"La probabilidad de que el próximo paciente sea atendido por el médico A es del {probabilidad_A}\")"
   ]
  }
 ],
 "metadata": {
  "kernelspec": {
   "display_name": "env",
   "language": "python",
   "name": "python3"
  },
  "language_info": {
   "codemirror_mode": {
    "name": "ipython",
    "version": 3
   },
   "file_extension": ".py",
   "mimetype": "text/x-python",
   "name": "python",
   "nbconvert_exporter": "python",
   "pygments_lexer": "ipython3",
   "version": "3.11.5"
  }
 },
 "nbformat": 4,
 "nbformat_minor": 2
}
